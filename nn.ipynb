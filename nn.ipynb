{
 "cells": [
  {
   "cell_type": "code",
   "execution_count": 1,
   "metadata": {
    "ExecuteTime": {
     "end_time": "2022-03-07T03:25:45.649250Z",
     "start_time": "2022-03-07T03:25:40.284273Z"
    }
   },
   "outputs": [],
   "source": [
    "from deepdow.benchmarks import Benchmark, OneOverN, Random\n",
    "from deepdow.callbacks import EarlyStoppingCallback\n",
    "from deepdow.data import InRAMDataset, RigidDataLoader, prepare_standard_scaler, Scale\n",
    "from deepdow.data.synthetic import sin_single\n",
    "from deepdow.experiments import Run\n",
    "from deepdow.layers import SoftmaxAllocator\n",
    "from deepdow.losses import MeanReturns, SharpeRatio, MaximumDrawdown\n",
    "from deepdow.visualize import generate_metrics_table, generate_weights_table, plot_metrics, plot_weight_heatmap\n",
    "import matplotlib.pyplot as plt\n",
    "import numpy as np\n",
    "import torch\n",
    "import pandas as pd\n",
    "from pypfopt import expected_returns"
   ]
  },
  {
   "cell_type": "markdown",
   "metadata": {},
   "source": [
    "## Get data (returns)"
   ]
  },
  {
   "cell_type": "code",
   "execution_count": 3,
   "metadata": {
    "ExecuteTime": {
     "end_time": "2022-03-07T03:26:17.508097Z",
     "start_time": "2022-03-07T03:26:17.489364Z"
    }
   },
   "outputs": [
    {
     "name": "stdout",
     "output_type": "stream",
     "text": [
      "(827, 41)\n"
     ]
    }
   ],
   "source": [
    "df = pd.read_csv(\"data/2021Q1_Top 50_of_Mutual_Funds_20160819_to_20200115.csv\", index_col=0)\n",
    "returns = expected_returns.returns_from_prices(df).to_numpy()\n",
    "print(returns.shape)"
   ]
  },
  {
   "cell_type": "markdown",
   "metadata": {},
   "source": [
    "## Split data into training and test set"
   ]
  },
  {
   "cell_type": "code",
   "execution_count": 4,
   "metadata": {
    "ExecuteTime": {
     "end_time": "2022-03-07T03:26:29.170595Z",
     "start_time": "2022-03-07T03:26:29.148654Z"
    }
   },
   "outputs": [
    {
     "name": "stdout",
     "output_type": "stream",
     "text": [
      "Train range: 0:61\n",
      "Test range: 62:77\n"
     ]
    }
   ],
   "source": [
    "n_timesteps, n_assets = returns.shape[0], returns.shape[1]\n",
    "lookback_timesteps, gap, lookahead_timesteps = 365, 20, 365\n",
    "n_samples = n_timesteps - lookback_timesteps - lookahead_timesteps - gap + 1\n",
    "\n",
    "split_ix = int(n_samples * 0.8)\n",
    "indices_train = list(range(split_ix))\n",
    "# indices_test = list(range(split_ix + lookback_timesteps + lookahead_timesteps, n_samples))\n",
    "indices_test = list(range(split_ix, n_samples))\n",
    "\n",
    "print('Train range: {}:{}\\nTest range: {}:{}'.format(indices_train[0], indices_train[-1],\n",
    "                                                     indices_test[0], indices_test[-1]))"
   ]
  },
  {
   "cell_type": "code",
   "execution_count": 5,
   "metadata": {
    "ExecuteTime": {
     "end_time": "2022-03-07T03:26:43.262881Z",
     "start_time": "2022-03-07T03:26:43.239117Z"
    }
   },
   "outputs": [
    {
     "name": "stdout",
     "output_type": "stream",
     "text": [
      "X: (78, 1, 365, 41), y: (78, 1, 365, 41)\n",
      "mean: [0.00090008], std: [0.02478366]\n"
     ]
    }
   ],
   "source": [
    "X_list, y_list = [], []\n",
    "\n",
    "for i in range(lookback_timesteps, n_timesteps - lookahead_timesteps - gap + 1):\n",
    "    X_list.append(returns[i - lookback_timesteps: i, :])\n",
    "    y_list.append(returns[i + gap: i + gap + lookahead_timesteps, :])\n",
    "\n",
    "X = np.stack(X_list, axis=0)[:, None, ...]\n",
    "y = np.stack(y_list, axis=0)[:, None, ...]\n",
    "\n",
    "print('X: {}, y: {}'.format(X.shape, y.shape))\n",
    "\n",
    "means, stds = prepare_standard_scaler(X, indices=indices_train)\n",
    "print('mean: {}, std: {}'.format(means, stds))"
   ]
  },
  {
   "cell_type": "code",
   "execution_count": 6,
   "metadata": {
    "ExecuteTime": {
     "end_time": "2022-03-07T03:26:58.058416Z",
     "start_time": "2022-03-07T03:26:58.039406Z"
    }
   },
   "outputs": [],
   "source": [
    "dataset = InRAMDataset(X, y, transform=Scale(means, stds))\n",
    "# dataset = InRAMDataset(X, y)\n",
    "dataloader_train = RigidDataLoader(dataset,\n",
    "                                   indices=indices_train,\n",
    "                                   batch_size=32)\n",
    "dataloader_dev = RigidDataLoader(dataset,\n",
    "                                 indices=indices_test,\n",
    "                                 batch_size=32)"
   ]
  },
  {
   "cell_type": "markdown",
   "metadata": {},
   "source": [
    "## Neural network definition"
   ]
  },
  {
   "cell_type": "code",
   "execution_count": 8,
   "metadata": {
    "ExecuteTime": {
     "end_time": "2022-03-07T03:27:30.369279Z",
     "start_time": "2022-03-07T03:27:30.344799Z"
    }
   },
   "outputs": [
    {
     "name": "stdout",
     "output_type": "stream",
     "text": [
      "NeuralNetwork(\n",
      "  (dropout_layer): Dropout(p=0.5, inplace=False)\n",
      "  (dense_layer): Linear(in_features=14965, out_features=41, bias=True)\n",
      "  (allocate_layer): SoftmaxAllocator(\n",
      "    (layer): Softmax(dim=1)\n",
      "  )\n",
      ")\n"
     ]
    }
   ],
   "source": [
    "class NeuralNetwork(torch.nn.Module, Benchmark):\n",
    "    def __init__(self, n_assets, lookback, p=0.5):\n",
    "        super().__init__()\n",
    "\n",
    "        n_features = n_assets * lookback\n",
    "\n",
    "        self.dropout_layer = torch.nn.Dropout(p=p)\n",
    "        self.dense_layer = torch.nn.Linear(n_features, n_assets, bias=True)\n",
    "        self.allocate_layer = SoftmaxAllocator(temperature=None)\n",
    "        self.temperature = torch.nn.Parameter(torch.ones(1), requires_grad=True)\n",
    "\n",
    "    def forward(self, x):\n",
    "        \"\"\"Perform forward pass.\n",
    "\n",
    "        Parameters\n",
    "        ----------\n",
    "        x : torch.Tensor\n",
    "            Of shape (n_samples, 1, lookback, n_assets).\n",
    "\n",
    "        Returns\n",
    "        -------\n",
    "        weights : torch.Torch\n",
    "            Tensor of shape (n_samples, n_assets).\n",
    "\n",
    "        \"\"\"\n",
    "        n_samples, _, _, _ = x.shape\n",
    "        x = x.view(n_samples, -1)  # flatten features\n",
    "        x = self.dropout_layer(x)\n",
    "        x = self.dense_layer(x)\n",
    "\n",
    "        temperatures = torch.ones(n_samples).to(device=x.device, dtype=x.dtype) * self.temperature\n",
    "        weights = self.allocate_layer(x, temperatures)\n",
    "\n",
    "        return weights\n",
    "\n",
    "network = NeuralNetwork(n_assets, lookback_timesteps)\n",
    "print(network)"
   ]
  },
  {
   "cell_type": "markdown",
   "metadata": {},
   "source": [
    "## Model training"
   ]
  },
  {
   "cell_type": "code",
   "execution_count": 9,
   "metadata": {
    "ExecuteTime": {
     "end_time": "2022-03-07T03:27:56.344127Z",
     "start_time": "2022-03-07T03:27:43.089055Z"
    }
   },
   "outputs": [
    {
     "name": "stderr",
     "output_type": "stream",
     "text": [
      "Epoch 0: 100%|███████████████████████████████████████████| 2/2 [00:00<00:00, 10.13it/s, loss=0.14646, val_loss=0.10710]\n",
      "Epoch 1: 100%|███████████████████████████████████████████| 2/2 [00:00<00:00, 10.13it/s, loss=0.06928, val_loss=0.09706]\n",
      "Epoch 2: 100%|███████████████████████████████████████████| 2/2 [00:00<00:00, 10.03it/s, loss=0.05721, val_loss=0.09091]\n",
      "Epoch 3: 100%|███████████████████████████████████████████| 2/2 [00:00<00:00, 10.34it/s, loss=0.05559, val_loss=0.08676]\n",
      "Epoch 4: 100%|███████████████████████████████████████████| 2/2 [00:00<00:00, 10.39it/s, loss=0.06341, val_loss=0.08330]\n",
      "Epoch 5: 100%|███████████████████████████████████████████| 2/2 [00:00<00:00,  8.91it/s, loss=0.06053, val_loss=0.08096]\n",
      "Epoch 6: 100%|███████████████████████████████████████████| 2/2 [00:00<00:00,  9.98it/s, loss=0.06368, val_loss=0.07906]\n",
      "Epoch 7: 100%|███████████████████████████████████████████| 2/2 [00:00<00:00, 10.03it/s, loss=0.07174, val_loss=0.07766]\n",
      "Epoch 8: 100%|███████████████████████████████████████████| 2/2 [00:00<00:00, 10.13it/s, loss=0.06860, val_loss=0.07653]\n",
      "Epoch 9: 100%|███████████████████████████████████████████| 2/2 [00:00<00:00, 10.39it/s, loss=0.07429, val_loss=0.07540]\n",
      "Epoch 10: 100%|██████████████████████████████████████████| 2/2 [00:00<00:00,  9.93it/s, loss=0.07219, val_loss=0.07435]\n",
      "Epoch 11: 100%|██████████████████████████████████████████| 2/2 [00:00<00:00,  9.93it/s, loss=0.07211, val_loss=0.07364]\n",
      "Epoch 12: 100%|██████████████████████████████████████████| 2/2 [00:00<00:00,  9.16it/s, loss=0.07225, val_loss=0.07313]\n",
      "Epoch 13: 100%|██████████████████████████████████████████| 2/2 [00:00<00:00, 10.08it/s, loss=0.07233, val_loss=0.07273]\n",
      "Epoch 14: 100%|██████████████████████████████████████████| 2/2 [00:00<00:00,  9.98it/s, loss=0.07024, val_loss=0.07225]\n",
      "Epoch 15: 100%|██████████████████████████████████████████| 2/2 [00:00<00:00,  9.78it/s, loss=0.07197, val_loss=0.07188]\n",
      "Epoch 16: 100%|██████████████████████████████████████████| 2/2 [00:00<00:00,  9.78it/s, loss=0.06735, val_loss=0.07127]\n",
      "Epoch 17: 100%|██████████████████████████████████████████| 2/2 [00:00<00:00,  9.78it/s, loss=0.06761, val_loss=0.07045]\n",
      "Epoch 18: 100%|██████████████████████████████████████████| 2/2 [00:00<00:00,  9.64it/s, loss=0.07283, val_loss=0.06955]\n",
      "Epoch 19: 100%|██████████████████████████████████████████| 2/2 [00:00<00:00,  8.29it/s, loss=0.08023, val_loss=0.06895]\n",
      "Epoch 20: 100%|██████████████████████████████████████████| 2/2 [00:00<00:00,  9.59it/s, loss=0.08020, val_loss=0.06829]\n",
      "Epoch 21: 100%|██████████████████████████████████████████| 2/2 [00:00<00:00, 10.03it/s, loss=0.08291, val_loss=0.06759]\n",
      "Epoch 22: 100%|██████████████████████████████████████████| 2/2 [00:00<00:00,  9.93it/s, loss=0.08281, val_loss=0.06683]\n",
      "Epoch 23: 100%|██████████████████████████████████████████| 2/2 [00:00<00:00,  9.93it/s, loss=0.08154, val_loss=0.06642]\n",
      "Epoch 24: 100%|██████████████████████████████████████████| 2/2 [00:00<00:00,  9.93it/s, loss=0.08285, val_loss=0.06611]\n",
      "Epoch 25: 100%|██████████████████████████████████████████| 2/2 [00:00<00:00,  9.24it/s, loss=0.08698, val_loss=0.06586]\n",
      "Epoch 26: 100%|██████████████████████████████████████████| 2/2 [00:00<00:00,  7.14it/s, loss=0.08227, val_loss=0.06571]\n",
      "Epoch 27: 100%|██████████████████████████████████████████| 2/2 [00:00<00:00,  9.33it/s, loss=0.07505, val_loss=0.06574]\n",
      "Epoch 28: 100%|██████████████████████████████████████████| 2/2 [00:00<00:00,  8.29it/s, loss=0.08287, val_loss=0.06573]\n",
      "Epoch 29: 100%|██████████████████████████████████████████| 2/2 [00:00<00:00,  7.62it/s, loss=0.08188, val_loss=0.06571]\n",
      "Epoch 30: 100%|██████████████████████████████████████████| 2/2 [00:00<00:00,  9.28it/s, loss=0.08456, val_loss=0.06547]\n",
      "Epoch 31: 100%|██████████████████████████████████████████| 2/2 [00:00<00:00,  9.78it/s, loss=0.08628, val_loss=0.06515]\n",
      "Epoch 32: 100%|██████████████████████████████████████████| 2/2 [00:00<00:00, 10.50it/s, loss=0.08458, val_loss=0.06476]\n",
      "Epoch 33: 100%|██████████████████████████████████████████| 2/2 [00:00<00:00, 10.03it/s, loss=0.08777, val_loss=0.06439]\n",
      "Epoch 34: 100%|██████████████████████████████████████████| 2/2 [00:00<00:00, 10.67it/s, loss=0.08902, val_loss=0.06413]\n",
      "Epoch 35: 100%|██████████████████████████████████████████| 2/2 [00:00<00:00, 10.34it/s, loss=0.09177, val_loss=0.06396]\n",
      "Epoch 36: 100%|██████████████████████████████████████████| 2/2 [00:00<00:00, 10.34it/s, loss=0.08954, val_loss=0.06379]\n",
      "Epoch 37: 100%|██████████████████████████████████████████| 2/2 [00:00<00:00,  9.20it/s, loss=0.08996, val_loss=0.06357]\n",
      "Epoch 38: 100%|██████████████████████████████████████████| 2/2 [00:00<00:00,  9.41it/s, loss=0.08913, val_loss=0.06347]\n",
      "Epoch 39: 100%|██████████████████████████████████████████| 2/2 [00:00<00:00,  9.28it/s, loss=0.08665, val_loss=0.06336]\n",
      "Epoch 40: 100%|██████████████████████████████████████████| 2/2 [00:00<00:00,  8.76it/s, loss=0.08713, val_loss=0.06321]\n",
      "Epoch 41: 100%|██████████████████████████████████████████| 2/2 [00:00<00:00, 10.13it/s, loss=0.08720, val_loss=0.06318]\n",
      "Epoch 42: 100%|██████████████████████████████████████████| 2/2 [00:00<00:00,  9.41it/s, loss=0.08821, val_loss=0.06331]\n",
      "Epoch 43: 100%|██████████████████████████████████████████| 2/2 [00:00<00:00,  8.50it/s, loss=0.08708, val_loss=0.06350]\n",
      "Epoch 44: 100%|██████████████████████████████████████████| 2/2 [00:00<00:00,  9.28it/s, loss=0.08840, val_loss=0.06360]\n",
      "Epoch 45: 100%|██████████████████████████████████████████| 2/2 [00:00<00:00,  9.78it/s, loss=0.08944, val_loss=0.06367]\n",
      "Epoch 46: 100%|██████████████████████████████████████████| 2/2 [00:00<00:00, 10.03it/s, loss=0.09079, val_loss=0.06375]\n",
      "Epoch 47: 100%|██████████████████████████████████████████| 2/2 [00:00<00:00, 10.18it/s, loss=0.09046, val_loss=0.06386]\n",
      "Epoch 48: 100%|██████████████████████████████████████████| 2/2 [00:00<00:00, 10.18it/s, loss=0.08982, val_loss=0.06401]\n",
      "Epoch 49: 100%|██████████████████████████████████████████| 2/2 [00:00<00:00,  9.69it/s, loss=0.09095, val_loss=0.06409]\n",
      "Epoch 50: 100%|██████████████████████████████████████████| 2/2 [00:00<00:00,  9.78it/s, loss=0.09196, val_loss=0.06416]\n",
      "Epoch 51: 100%|██████████████████████████████████████████| 2/2 [00:00<00:00,  9.64it/s, loss=0.08883, val_loss=0.06425]\n",
      "Epoch 52: 100%|██████████████████████████████████████████| 2/2 [00:00<00:00, 10.08it/s, loss=0.09192, val_loss=0.06435]\n",
      "Epoch 53: 100%|██████████████████████████████████████████| 2/2 [00:00<00:00,  9.88it/s, loss=0.09186, val_loss=0.06436]\n",
      "Epoch 54: 100%|██████████████████████████████████████████| 2/2 [00:00<00:00,  9.83it/s, loss=0.09203, val_loss=0.06432]\n",
      "Epoch 55: 100%|██████████████████████████████████████████| 2/2 [00:00<00:00,  9.83it/s, loss=0.09080, val_loss=0.06415]\n",
      "Epoch 56: 100%|██████████████████████████████████████████| 2/2 [00:00<00:00, 10.18it/s, loss=0.08996, val_loss=0.06413]\n"
     ]
    },
    {
     "name": "stdout",
     "output_type": "stream",
     "text": [
      "Training interrupted\n",
      "Training stopped early because there was no improvement in val_loss for 15 epochs\n",
      "dataloader  metric  model    epoch\n",
      "val         loss    network  0        16\n",
      "                             1        16\n",
      "                             2        16\n",
      "                             3        16\n",
      "                             4        16\n",
      "                             5        16\n",
      "                             6        16\n",
      "                             7        16\n",
      "                             8        16\n",
      "                             9        16\n",
      "                             10       16\n",
      "                             11       16\n",
      "                             12       16\n",
      "                             13       16\n",
      "                             14       16\n",
      "                             15       16\n",
      "                             16       16\n",
      "                             17       16\n",
      "                             18       16\n",
      "                             19       16\n",
      "                             20       16\n",
      "                             21       16\n",
      "                             22       16\n",
      "                             23       16\n",
      "                             24       16\n",
      "                             25       16\n",
      "                             26       16\n",
      "                             27       16\n",
      "                             28       16\n",
      "                             29       16\n",
      "                             30       16\n",
      "                             31       16\n",
      "                             32       16\n",
      "                             33       16\n",
      "                             34       16\n",
      "                             35       16\n",
      "                             36       16\n",
      "                             37       16\n",
      "                             38       16\n",
      "                             39       16\n",
      "                             40       16\n",
      "                             41       16\n",
      "                             42       16\n",
      "                             43       16\n",
      "                             44       16\n",
      "                             45       16\n",
      "                             46       16\n",
      "                             47       16\n",
      "                             48       16\n",
      "                             49       16\n",
      "                             50       16\n",
      "                             51       16\n",
      "                             52       16\n",
      "                             53       16\n",
      "                             54       16\n",
      "                             55       16\n",
      "                             56       16\n",
      "Name: value, dtype: int64\n",
      "dataloader  metric  model    epoch\n",
      "val         loss    network  0        0.107103\n",
      "                             1        0.097063\n",
      "                             2        0.090915\n",
      "                             3        0.086758\n",
      "                             4        0.083304\n",
      "                             5        0.080958\n",
      "                             6        0.079059\n",
      "                             7        0.077656\n",
      "                             8        0.076525\n",
      "                             9        0.075399\n",
      "                             10       0.074349\n",
      "                             11       0.073639\n",
      "                             12       0.073133\n",
      "                             13       0.072727\n",
      "                             14       0.072246\n",
      "                             15       0.071884\n",
      "                             16       0.071270\n",
      "                             17       0.070447\n",
      "                             18       0.069553\n",
      "                             19       0.068952\n",
      "                             20       0.068289\n",
      "                             21       0.067591\n",
      "                             22       0.066830\n",
      "                             23       0.066422\n",
      "                             24       0.066110\n",
      "                             25       0.065860\n",
      "                             26       0.065713\n",
      "                             27       0.065744\n",
      "                             28       0.065728\n",
      "                             29       0.065713\n",
      "                             30       0.065471\n",
      "                             31       0.065152\n",
      "                             32       0.064761\n",
      "                             33       0.064390\n",
      "                             34       0.064129\n",
      "                             35       0.063959\n",
      "                             36       0.063785\n",
      "                             37       0.063569\n",
      "                             38       0.063466\n",
      "                             39       0.063357\n",
      "                             40       0.063209\n",
      "                             41       0.063184\n",
      "                             42       0.063307\n",
      "                             43       0.063501\n",
      "                             44       0.063595\n",
      "                             45       0.063672\n",
      "                             46       0.063754\n",
      "                             47       0.063858\n",
      "                             48       0.064012\n",
      "                             49       0.064093\n",
      "                             50       0.064159\n",
      "                             51       0.064246\n",
      "                             52       0.064348\n",
      "                             53       0.064360\n",
      "                             54       0.064318\n",
      "                             55       0.064148\n",
      "                             56       0.064134\n",
      "Name: value, dtype: float64\n"
     ]
    }
   ],
   "source": [
    "network = network.train()  # it is the default, however, just to make the distinction clear\n",
    "\n",
    "loss = MaximumDrawdown() + 2 * MeanReturns() + SharpeRatio()\n",
    "run = Run(network,\n",
    "          loss,\n",
    "          dataloader_train,\n",
    "          val_dataloaders={'val': dataloader_dev},\n",
    "          optimizer=torch.optim.Adam(network.parameters(), amsgrad=True),\n",
    "          callbacks=[EarlyStoppingCallback(metric_name='loss',\n",
    "                                           dataloader_name='val',\n",
    "                                           patience=15)])\n",
    "history = run.launch(100)\n",
    "per_epoch_results = history.metrics.groupby(['dataloader', 'metric', 'model', 'epoch'])['value']\n",
    "\n",
    "print(per_epoch_results.count())  # double check number of samples each epoch\n",
    "print(per_epoch_results.mean())  # mean loss per epoch"
   ]
  },
  {
   "cell_type": "code",
   "execution_count": 10,
   "metadata": {
    "ExecuteTime": {
     "end_time": "2022-03-07T03:28:09.195407Z",
     "start_time": "2022-03-07T03:28:08.550733Z"
    }
   },
   "outputs": [
    {
     "data": {
      "text/plain": [
       "array([<AxesSubplot:title={'center':'MaximumDrawdown'}, xlabel='timestamp'>,\n",
       "       <AxesSubplot:title={'center':'Sharpe'}, xlabel='timestamp'>,\n",
       "       <AxesSubplot:title={'center':'MeanReturn'}, xlabel='timestamp'>],\n",
       "      dtype=object)"
      ]
     },
     "execution_count": 10,
     "metadata": {},
     "output_type": "execute_result"
    },
    {
     "data": {
      "image/png": "[encoded data removed]",
      "text/plain": [
       "<Figure size 432x288 with 1 Axes>"
      ]
     },
     "metadata": {
      "needs_background": "light"
     },
     "output_type": "display_data"
    },
    {
     "data": {
      "image/png": "[encoded data removed]",
      "text/plain": [
       "<Figure size 432x288 with 3 Axes>"
      ]
     },
     "metadata": {
      "needs_background": "light"
     },
     "output_type": "display_data"
    }
   ],
   "source": [
    "per_epoch_results.mean()['val']['loss']['network'].plot()\n",
    "network = network.eval()\n",
    "benchmarks = {\n",
    "    'Uniformity': OneOverN(),  # each asset has weight 1 / n_assets\n",
    "    'random': Random(),  # random allocation that is however close 1OverN\n",
    "    'NeuralNetwork': network\n",
    "}\n",
    "metrics = {\n",
    "    'MaximumDrawdown': MaximumDrawdown(),\n",
    "    'Sharpe': SharpeRatio(),\n",
    "    'MeanReturn': MeanReturns()\n",
    "}\n",
    "\n",
    "metrics_table = generate_metrics_table(benchmarks,\n",
    "                                       dataloader_dev,\n",
    "                                       metrics)\n",
    "plot_metrics(metrics_table)"
   ]
  },
  {
   "cell_type": "markdown",
   "metadata": {},
   "source": [
    "## evaluation"
   ]
  },
  {
   "cell_type": "code",
   "execution_count": 11,
   "metadata": {
    "ExecuteTime": {
     "end_time": "2022-03-07T03:28:58.081948Z",
     "start_time": "2022-03-07T03:28:58.059010Z"
    }
   },
   "outputs": [
    {
     "name": "stdout",
     "output_type": "stream",
     "text": [
      "mean: [0.00129271], std: [0.02496246]\n",
      "            0\n",
      "贵州茅台  0.02351\n",
      "五粮液   0.00361\n",
      "海康威视  0.00138\n",
      "中国中免  0.03274\n",
      "招商银行  0.01425\n",
      "泸州老窖  0.00358\n",
      "中国平安  0.03389\n",
      "隆基股份  0.00932\n",
      "美的集团  0.00482\n",
      "长春高新  0.01306\n",
      "山西汾酒  0.00258\n",
      "兴业银行  0.01111\n",
      "伊利股份  0.00851\n",
      "恒瑞医药  0.00725\n",
      "智飞生物  0.01476\n",
      "三一重工  0.11057\n",
      "亿纬锂能  0.02844\n",
      "万科A   0.00848\n",
      "平安银行  0.00515\n",
      "东方财富  0.04347\n",
      "宁波银行  0.35383\n",
      "万华化学  0.00229\n",
      "分众传媒  0.00154\n",
      "顺丰控股  0.00801\n",
      "汇川技术  0.00963\n",
      "爱尔眼科  0.01727\n",
      "海尔智家  0.00495\n",
      "赣锋锂业  0.01126\n",
      "洋河股份  0.02085\n",
      "立讯精密  0.01830\n",
      "紫金矿业  0.01004\n",
      "格力电器  0.00747\n",
      "东方雨虹  0.02573\n",
      "泰格医药  0.00188\n",
      "京东方A  0.00269\n",
      "中信证券  0.01307\n",
      "海大集团  0.09998\n",
      "荣盛石化  0.00623\n",
      "兆易创新  0.00050\n",
      "华友钴业  0.00289\n",
      "紫光国微  0.00112\n"
     ]
    }
   ],
   "source": [
    "X_for_test = returns[-lookback_timesteps:, :][None, None, :, ...]\n",
    "means = X_for_test.mean(axis=(0, 2, 3))\n",
    "stds = X_for_test.std(axis=(0, 2, 3))\n",
    "print('mean: {}, std: {}'.format(means, stds))\n",
    "X_for_test = torch.tensor(X_for_test, dtype=torch.float)\n",
    "X_for_test, _, _, _ = Scale(means, stds)(X_for_test, None, None, None)\n",
    "predicted_weight = network(X_for_test).detach().numpy().tolist()[0]\n",
    "predicted_weight = np.round(predicted_weight, 5)\n",
    "predicted_weight = pd.DataFrame(predicted_weight, index=list(df.columns))\n",
    "predicted_weight.to_csv(\"results/weights_NN.csv\", header=False)\n",
    "print(predicted_weight)"
   ]
  },
  {
   "cell_type": "code",
   "execution_count": 12,
   "metadata": {
    "ExecuteTime": {
     "end_time": "2022-03-07T03:29:12.195521Z",
     "start_time": "2022-03-07T03:29:11.756815Z"
    }
   },
   "outputs": [
    {
     "data": {
      "text/plain": [
       "<AxesSubplot:>"
      ]
     },
     "execution_count": 12,
     "metadata": {},
     "output_type": "execute_result"
    },
    {
     "data": {
      "image/png": "[encoded data removed]",
      "text/plain": [
       "<Figure size 432x288 with 2 Axes>"
      ]
     },
     "metadata": {
      "needs_background": "light"
     },
     "output_type": "display_data"
    }
   ],
   "source": [
    "weight_table = generate_weights_table(network, dataloader_dev)\n",
    "plot_weight_heatmap(weight_table,\n",
    "                    add_sum_column=True,\n",
    "                    time_format=None,\n",
    "                    time_skips=25)"
   ]
  }
 ],
 "metadata": {
  "kernelspec": {
   "display_name": "Python [conda env:cs410]",
   "language": "python",
   "name": "conda-env-cs410-py"
  },
  "language_info": {
   "codemirror_mode": {
    "name": "ipython",
    "version": 3
   },
   "file_extension": ".py",
   "mimetype": "text/x-python",
   "name": "python",
   "nbconvert_exporter": "python",
   "pygments_lexer": "ipython3",
   "version": "3.6.13"
  },
  "toc": {
   "base_numbering": 1,
   "nav_menu": {},
   "number_sections": true,
   "sideBar": true,
   "skip_h1_title": false,
   "title_cell": "Table of Contents",
   "title_sidebar": "Contents",
   "toc_cell": false,
   "toc_position": {},
   "toc_section_display": true,
   "toc_window_display": false
  },
  "varInspector": {
   "cols": {
    "lenName": 16,
    "lenType": 16,
    "lenVar": 40
   },
   "kernels_config": {
    "python": {
     "delete_cmd_postfix": "",
     "delete_cmd_prefix": "del ",
     "library": "var_list.py",
     "varRefreshCmd": "print(var_dic_list())"
    },
    "r": {
     "delete_cmd_postfix": ") ",
     "delete_cmd_prefix": "rm(",
     "library": "var_list.r",
     "varRefreshCmd": "cat(var_dic_list()) "
    }
   },
   "types_to_exclude": [
    "module",
    "function",
    "builtin_function_or_method",
    "instance",
    "_Feature"
   ],
   "window_display": false
  }
 },
 "nbformat": 4,
 "nbformat_minor": 1
}
